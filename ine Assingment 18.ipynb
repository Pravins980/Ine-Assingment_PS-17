{
 "cells": [
  {
   "cell_type": "markdown",
   "id": "2b8b2d84",
   "metadata": {},
   "source": [
    "#1. Create a zoo.py file first. Define the hours() function, which prints the string &#39;Open 9-5 daily&#39;.\n",
    "Ans: Numpy Ndarray provides a lot of convenient and optimized methods for performing several mathematical operations on vectors."
   ]
  },
  {
   "cell_type": "code",
   "execution_count": null,
   "id": "65462ff9",
   "metadata": {},
   "outputs": [],
   "source": [
    "#2. In the interactive interpreter, import the zoo module as menagerie and call its hours() function.\n",
    "import zoo as menagerie\n",
    "\n",
    "menagerie.hours()"
   ]
  },
  {
   "cell_type": "code",
   "execution_count": null,
   "id": "f1325faf",
   "metadata": {},
   "outputs": [],
   "source": [
    "#3. Using the interpreter, explicitly import and call the hours() function from zoo.\n",
    "from zoo import hours\n",
    "hours()"
   ]
  },
  {
   "cell_type": "code",
   "execution_count": null,
   "id": "f48c49a4",
   "metadata": {},
   "outputs": [],
   "source": [
    "#4. Import the hours() function as info and call it.\n",
    "from zoo import hours as info\n",
    "info()"
   ]
  },
  {
   "cell_type": "code",
   "execution_count": null,
   "id": "5155b1cc",
   "metadata": {},
   "outputs": [],
   "source": [
    "#5. Create a plain dictionary with the key-value pairs 'a': 1, 'b': 2, and 'c': 3, and print it out.\n",
    "plain_dict = {'a': 1, 'b': 2, 'c': 3}\n",
    "plain_dict"
   ]
  },
  {
   "cell_type": "code",
   "execution_count": null,
   "id": "4ab93bf7",
   "metadata": {},
   "outputs": [],
   "source": [
    "#6.Make an OrderedDict called fancy from the same pairs listed in 5 and print it. Did it print in the same order as plain?\n",
    "from collections import OrderedDict\n",
    "fancy = OrderedDict([('a', 1), ('b', 2), ('c', 3)])\n",
    "fancy"
   ]
  },
  {
   "cell_type": "code",
   "execution_count": null,
   "id": "64ffcc8c",
   "metadata": {},
   "outputs": [],
   "source": [
    "#7. Make a default dictionary called dict_of_lists and pass it the argument list. Make the list dict_of_lists['a'] and append the value 'something for a' to it in one assignment. Print dict_of_lists['a'].\n",
    "from collections import defaultdict\n",
    "dict_of_lists = defaultdict(list)\n",
    "dict_of_lists['a'].append('something for a')\n",
    "dict_of_lists['a']"
   ]
  },
  {
   "cell_type": "code",
   "execution_count": null,
   "id": "b7ca69d4",
   "metadata": {},
   "outputs": [],
   "source": []
  },
  {
   "cell_type": "code",
   "execution_count": null,
   "id": "6aebde23",
   "metadata": {},
   "outputs": [],
   "source": []
  }
 ],
 "metadata": {
  "kernelspec": {
   "display_name": "Python 3",
   "language": "python",
   "name": "python3"
  },
  "language_info": {
   "codemirror_mode": {
    "name": "ipython",
    "version": 3
   },
   "file_extension": ".py",
   "mimetype": "text/x-python",
   "name": "python",
   "nbconvert_exporter": "python",
   "pygments_lexer": "ipython3",
   "version": "3.8.8"
  }
 },
 "nbformat": 4,
 "nbformat_minor": 5
}
